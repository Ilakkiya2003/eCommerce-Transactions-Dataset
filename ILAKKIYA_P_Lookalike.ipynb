{
 "cells": [
  {
   "cell_type": "code",
   "execution_count": 2,
   "id": "7ff80d05-aa97-487a-a0b3-4b3187a9281d",
   "metadata": {},
   "outputs": [
    {
     "name": "stdout",
     "output_type": "stream",
     "text": [
      "Requirement already satisfied: pandas in c:\\users\\ilakk\\appdata\\local\\programs\\python\\python313\\lib\\site-packages (2.2.3)\n",
      "Requirement already satisfied: numpy>=1.26.0 in c:\\users\\ilakk\\appdata\\local\\programs\\python\\python313\\lib\\site-packages (from pandas) (2.2.2)\n",
      "Requirement already satisfied: python-dateutil>=2.8.2 in c:\\users\\ilakk\\appdata\\local\\programs\\python\\python313\\lib\\site-packages (from pandas) (2.9.0.post0)\n",
      "Requirement already satisfied: pytz>=2020.1 in c:\\users\\ilakk\\appdata\\local\\programs\\python\\python313\\lib\\site-packages (from pandas) (2024.2)\n",
      "Requirement already satisfied: tzdata>=2022.7 in c:\\users\\ilakk\\appdata\\local\\programs\\python\\python313\\lib\\site-packages (from pandas) (2025.1)\n",
      "Requirement already satisfied: six>=1.5 in c:\\users\\ilakk\\appdata\\local\\programs\\python\\python313\\lib\\site-packages (from python-dateutil>=2.8.2->pandas) (1.17.0)\n",
      "Note: you may need to restart the kernel to use updated packages.\n"
     ]
    },
    {
     "name": "stderr",
     "output_type": "stream",
     "text": [
      "\n",
      "[notice] A new release of pip is available: 24.3.1 -> 25.0\n",
      "[notice] To update, run: C:\\Users\\ilakk\\AppData\\Local\\Programs\\Python\\Python313\\python.exe -m pip install --upgrade pip\n"
     ]
    }
   ],
   "source": [
    "pip install pandas"
   ]
  },
  {
   "cell_type": "code",
   "execution_count": 3,
   "id": "8d0fa1de-7200-45b4-835b-98fc17083727",
   "metadata": {},
   "outputs": [
    {
     "name": "stdout",
     "output_type": "stream",
     "text": [
      "Requirement already satisfied: pandas in c:\\users\\ilakk\\appdata\\local\\programs\\python\\python313\\lib\\site-packages (2.2.3)\n",
      "Requirement already satisfied: numpy>=1.26.0 in c:\\users\\ilakk\\appdata\\local\\programs\\python\\python313\\lib\\site-packages (from pandas) (2.2.2)\n",
      "Requirement already satisfied: python-dateutil>=2.8.2 in c:\\users\\ilakk\\appdata\\local\\programs\\python\\python313\\lib\\site-packages (from pandas) (2.9.0.post0)\n",
      "Requirement already satisfied: pytz>=2020.1 in c:\\users\\ilakk\\appdata\\local\\programs\\python\\python313\\lib\\site-packages (from pandas) (2024.2)\n",
      "Requirement already satisfied: tzdata>=2022.7 in c:\\users\\ilakk\\appdata\\local\\programs\\python\\python313\\lib\\site-packages (from pandas) (2025.1)\n",
      "Requirement already satisfied: six>=1.5 in c:\\users\\ilakk\\appdata\\local\\programs\\python\\python313\\lib\\site-packages (from python-dateutil>=2.8.2->pandas) (1.17.0)\n"
     ]
    },
    {
     "name": "stderr",
     "output_type": "stream",
     "text": [
      "\n",
      "[notice] A new release of pip is available: 24.3.1 -> 25.0\n",
      "[notice] To update, run: C:\\Users\\ilakk\\AppData\\Local\\Programs\\Python\\Python313\\python.exe -m pip install --upgrade pip\n"
     ]
    }
   ],
   "source": [
    "!pip install pandas"
   ]
  },
  {
   "cell_type": "code",
   "execution_count": 4,
   "id": "40a4f46e-8d73-42ed-ad24-22e0bc235999",
   "metadata": {},
   "outputs": [
    {
     "name": "stdout",
     "output_type": "stream",
     "text": [
      "Requirement already satisfied: matplotlib in c:\\users\\ilakk\\appdata\\local\\programs\\python\\python313\\lib\\site-packages (3.10.0)\n",
      "Requirement already satisfied: seaborn in c:\\users\\ilakk\\appdata\\local\\programs\\python\\python313\\lib\\site-packages (0.13.2)\n",
      "Requirement already satisfied: contourpy>=1.0.1 in c:\\users\\ilakk\\appdata\\local\\programs\\python\\python313\\lib\\site-packages (from matplotlib) (1.3.1)\n",
      "Requirement already satisfied: cycler>=0.10 in c:\\users\\ilakk\\appdata\\local\\programs\\python\\python313\\lib\\site-packages (from matplotlib) (0.12.1)\n",
      "Requirement already satisfied: fonttools>=4.22.0 in c:\\users\\ilakk\\appdata\\local\\programs\\python\\python313\\lib\\site-packages (from matplotlib) (4.55.6)\n",
      "Requirement already satisfied: kiwisolver>=1.3.1 in c:\\users\\ilakk\\appdata\\local\\programs\\python\\python313\\lib\\site-packages (from matplotlib) (1.4.8)\n",
      "Requirement already satisfied: numpy>=1.23 in c:\\users\\ilakk\\appdata\\local\\programs\\python\\python313\\lib\\site-packages (from matplotlib) (2.2.2)\n",
      "Requirement already satisfied: packaging>=20.0 in c:\\users\\ilakk\\appdata\\local\\programs\\python\\python313\\lib\\site-packages (from matplotlib) (24.2)\n",
      "Requirement already satisfied: pillow>=8 in c:\\users\\ilakk\\appdata\\local\\programs\\python\\python313\\lib\\site-packages (from matplotlib) (11.1.0)\n",
      "Requirement already satisfied: pyparsing>=2.3.1 in c:\\users\\ilakk\\appdata\\local\\programs\\python\\python313\\lib\\site-packages (from matplotlib) (3.2.1)\n",
      "Requirement already satisfied: python-dateutil>=2.7 in c:\\users\\ilakk\\appdata\\local\\programs\\python\\python313\\lib\\site-packages (from matplotlib) (2.9.0.post0)\n",
      "Requirement already satisfied: pandas>=1.2 in c:\\users\\ilakk\\appdata\\local\\programs\\python\\python313\\lib\\site-packages (from seaborn) (2.2.3)\n",
      "Requirement already satisfied: pytz>=2020.1 in c:\\users\\ilakk\\appdata\\local\\programs\\python\\python313\\lib\\site-packages (from pandas>=1.2->seaborn) (2024.2)\n",
      "Requirement already satisfied: tzdata>=2022.7 in c:\\users\\ilakk\\appdata\\local\\programs\\python\\python313\\lib\\site-packages (from pandas>=1.2->seaborn) (2025.1)\n",
      "Requirement already satisfied: six>=1.5 in c:\\users\\ilakk\\appdata\\local\\programs\\python\\python313\\lib\\site-packages (from python-dateutil>=2.7->matplotlib) (1.17.0)\n",
      "Note: you may need to restart the kernel to use updated packages.\n"
     ]
    },
    {
     "name": "stderr",
     "output_type": "stream",
     "text": [
      "\n",
      "[notice] A new release of pip is available: 24.3.1 -> 25.0\n",
      "[notice] To update, run: C:\\Users\\ilakk\\AppData\\Local\\Programs\\Python\\Python313\\python.exe -m pip install --upgrade pip\n"
     ]
    }
   ],
   "source": [
    "pip install matplotlib seaborn"
   ]
  },
  {
   "cell_type": "code",
   "execution_count": 5,
   "id": "6b09cdfb-3cbf-4c4c-83b4-ae8df552209b",
   "metadata": {},
   "outputs": [],
   "source": [
    "import pandas as pd\n",
    "import numpy as np\n",
    "import matplotlib.pyplot as plt\n",
    "import seaborn as sns"
   ]
  },
  {
   "cell_type": "code",
   "execution_count": 6,
   "id": "95595030-c5da-4b24-9255-94a6c5288846",
   "metadata": {},
   "outputs": [],
   "source": [
    "customers = pd.read_csv(\"C:/Users/ilakk/Downloads/Customers.csv\")"
   ]
  },
  {
   "cell_type": "code",
   "execution_count": 7,
   "id": "cd92c54b-56eb-4f80-824e-430705ffb2bc",
   "metadata": {},
   "outputs": [],
   "source": [
    "products = pd.read_csv(\"C:/Users/ilakk/Downloads/Products.csv\")"
   ]
  },
  {
   "cell_type": "code",
   "execution_count": 9,
   "id": "86d8796e-4691-4fdc-b57c-4862ae044ca2",
   "metadata": {},
   "outputs": [],
   "source": [
    "transactions = pd.read_csv(\"C:/Users/ilakk/Downloads/Transactions.csv\")"
   ]
  },
  {
   "cell_type": "code",
   "execution_count": 10,
   "id": "812dfd12-e28b-4fcb-ab5b-2f41f01804b8",
   "metadata": {},
   "outputs": [],
   "source": [
    "# Preprocess data: merge customer data with transaction history\n",
    "# Assuming that 'CustomerID' is the common column\n",
    "data = pd.merge(customers, transactions, on=\"CustomerID\", how=\"left\")"
   ]
  },
  {
   "cell_type": "code",
   "execution_count": 15,
   "id": "e7a7f0fa-1ecf-48e6-9530-9881f3b40851",
   "metadata": {},
   "outputs": [
    {
     "name": "stdout",
     "output_type": "stream",
     "text": [
      "Index(['TransactionID', 'CustomerID', 'ProductID', 'TransactionDate',\n",
      "       'Quantity', 'TotalValue', 'Price'],\n",
      "      dtype='object')\n"
     ]
    }
   ],
   "source": [
    "print(transactions.columns)\n"
   ]
  },
  {
   "cell_type": "code",
   "execution_count": 16,
   "id": "2d62ed4a-d1b4-4d8d-bc7f-b4a24338b7f0",
   "metadata": {},
   "outputs": [],
   "source": [
    "# Feature Engineering: Extract features for similarity computation\n",
    "# Use 'TotalValue' for the total spent and 'TransactionID' for counting transactions\n",
    "data['TotalSpent'] = data.groupby('CustomerID')['TotalValue'].transform('sum')\n",
    "data['NumTransactions'] = data.groupby('CustomerID')['TransactionID'].transform('count')\n",
    "\n",
    "# Now extract the features for the similarity computation\n",
    "features = data[['CustomerID', 'TotalSpent', 'NumTransactions']].drop_duplicates()  # Drop duplicates for unique customers\n"
   ]
  },
  {
   "cell_type": "code",
   "execution_count": 19,
   "id": "31ec131d-b9ae-40ea-bb89-a7ad6769bd9a",
   "metadata": {},
   "outputs": [
    {
     "name": "stdout",
     "output_type": "stream",
     "text": [
      "Collecting scikit-learn\n",
      "  Downloading scikit_learn-1.6.1-cp313-cp313-win_amd64.whl.metadata (15 kB)\n",
      "Requirement already satisfied: numpy>=1.19.5 in c:\\users\\ilakk\\appdata\\local\\programs\\python\\python313\\lib\\site-packages (from scikit-learn) (2.2.2)\n",
      "Collecting scipy>=1.6.0 (from scikit-learn)\n",
      "  Downloading scipy-1.15.1-cp313-cp313-win_amd64.whl.metadata (60 kB)\n",
      "Collecting joblib>=1.2.0 (from scikit-learn)\n",
      "  Downloading joblib-1.4.2-py3-none-any.whl.metadata (5.4 kB)\n",
      "Collecting threadpoolctl>=3.1.0 (from scikit-learn)\n",
      "  Downloading threadpoolctl-3.5.0-py3-none-any.whl.metadata (13 kB)\n",
      "Downloading scikit_learn-1.6.1-cp313-cp313-win_amd64.whl (11.1 MB)\n",
      "   ---------------------------------------- 0.0/11.1 MB ? eta -:--:--\n",
      "   - -------------------------------------- 0.5/11.1 MB 3.1 MB/s eta 0:00:04\n",
      "   ---- ----------------------------------- 1.3/11.1 MB 3.1 MB/s eta 0:00:04\n",
      "   ------ --------------------------------- 1.8/11.1 MB 3.1 MB/s eta 0:00:03\n",
      "   --------- ------------------------------ 2.6/11.1 MB 3.2 MB/s eta 0:00:03\n",
      "   ----------- ---------------------------- 3.1/11.1 MB 3.2 MB/s eta 0:00:03\n",
      "   -------------- ------------------------- 3.9/11.1 MB 3.2 MB/s eta 0:00:03\n",
      "   ---------------- ----------------------- 4.5/11.1 MB 3.1 MB/s eta 0:00:03\n",
      "   ------------------ --------------------- 5.2/11.1 MB 3.2 MB/s eta 0:00:02\n",
      "   ------------------- -------------------- 5.5/11.1 MB 3.0 MB/s eta 0:00:02\n",
      "   ---------------------- ----------------- 6.3/11.1 MB 3.0 MB/s eta 0:00:02\n",
      "   ------------------------ --------------- 6.8/11.1 MB 3.0 MB/s eta 0:00:02\n",
      "   --------------------------- ------------ 7.6/11.1 MB 3.0 MB/s eta 0:00:02\n",
      "   ----------------------------- ---------- 8.1/11.1 MB 3.0 MB/s eta 0:00:01\n",
      "   -------------------------------- ------- 8.9/11.1 MB 3.0 MB/s eta 0:00:01\n",
      "   ---------------------------------- ----- 9.4/11.1 MB 3.0 MB/s eta 0:00:01\n",
      "   ------------------------------------ --- 10.2/11.1 MB 3.1 MB/s eta 0:00:01\n",
      "   -------------------------------------- - 10.7/11.1 MB 3.1 MB/s eta 0:00:01\n",
      "   ---------------------------------------- 11.1/11.1 MB 3.0 MB/s eta 0:00:00\n",
      "Downloading joblib-1.4.2-py3-none-any.whl (301 kB)\n",
      "Downloading scipy-1.15.1-cp313-cp313-win_amd64.whl (43.6 MB)\n",
      "   ---------------------------------------- 0.0/43.6 MB ? eta -:--:--\n",
      "   ---------------------------------------- 0.5/43.6 MB 3.0 MB/s eta 0:00:15\n",
      "   - -------------------------------------- 1.3/43.6 MB 3.2 MB/s eta 0:00:14\n",
      "   - -------------------------------------- 1.8/43.6 MB 3.2 MB/s eta 0:00:13\n",
      "   -- ------------------------------------- 2.6/43.6 MB 3.2 MB/s eta 0:00:13\n",
      "   -- ------------------------------------- 3.1/43.6 MB 3.2 MB/s eta 0:00:13\n",
      "   --- ------------------------------------ 3.9/43.6 MB 3.2 MB/s eta 0:00:13\n",
      "   ---- ----------------------------------- 4.5/43.6 MB 3.2 MB/s eta 0:00:13\n",
      "   ---- ----------------------------------- 5.2/43.6 MB 3.2 MB/s eta 0:00:12\n",
      "   ----- ---------------------------------- 5.8/43.6 MB 3.2 MB/s eta 0:00:12\n",
      "   ------ --------------------------------- 6.6/43.6 MB 3.2 MB/s eta 0:00:12\n",
      "   ------ --------------------------------- 7.1/43.6 MB 3.2 MB/s eta 0:00:12\n",
      "   ------- -------------------------------- 7.9/43.6 MB 3.2 MB/s eta 0:00:12\n",
      "   ------- -------------------------------- 8.4/43.6 MB 3.2 MB/s eta 0:00:12\n",
      "   -------- ------------------------------- 9.2/43.6 MB 3.2 MB/s eta 0:00:11\n",
      "   -------- ------------------------------- 9.7/43.6 MB 3.2 MB/s eta 0:00:11\n",
      "   --------- ------------------------------ 10.2/43.6 MB 3.1 MB/s eta 0:00:11\n",
      "   --------- ------------------------------ 10.7/43.6 MB 3.1 MB/s eta 0:00:11\n",
      "   ---------- ----------------------------- 11.0/43.6 MB 3.1 MB/s eta 0:00:11\n",
      "   ---------- ----------------------------- 11.3/43.6 MB 2.9 MB/s eta 0:00:12\n",
      "   ---------- ----------------------------- 11.8/43.6 MB 2.8 MB/s eta 0:00:12\n",
      "   ----------- ---------------------------- 12.3/43.6 MB 2.9 MB/s eta 0:00:11\n",
      "   ----------- ---------------------------- 12.8/43.6 MB 2.8 MB/s eta 0:00:11\n",
      "   ------------ --------------------------- 13.4/43.6 MB 2.8 MB/s eta 0:00:11\n",
      "   ------------ --------------------------- 13.9/43.6 MB 2.8 MB/s eta 0:00:11\n",
      "   ------------ --------------------------- 13.9/43.6 MB 2.8 MB/s eta 0:00:11\n",
      "   ------------ --------------------------- 14.2/43.6 MB 2.6 MB/s eta 0:00:12\n",
      "   ------------- -------------------------- 14.7/43.6 MB 2.6 MB/s eta 0:00:11\n",
      "   ------------- -------------------------- 15.2/43.6 MB 2.7 MB/s eta 0:00:11\n",
      "   -------------- ------------------------- 15.5/43.6 MB 2.6 MB/s eta 0:00:11\n",
      "   -------------- ------------------------- 15.7/43.6 MB 2.5 MB/s eta 0:00:12\n",
      "   -------------- ------------------------- 15.7/43.6 MB 2.5 MB/s eta 0:00:12\n",
      "   -------------- ------------------------- 16.3/43.6 MB 2.4 MB/s eta 0:00:12\n",
      "   --------------- ------------------------ 16.8/43.6 MB 2.5 MB/s eta 0:00:11\n",
      "   --------------- ------------------------ 17.3/43.6 MB 2.5 MB/s eta 0:00:11\n",
      "   ---------------- ----------------------- 18.1/43.6 MB 2.5 MB/s eta 0:00:11\n",
      "   ----------------- ---------------------- 18.6/43.6 MB 2.5 MB/s eta 0:00:11\n",
      "   ----------------- ---------------------- 19.4/43.6 MB 2.5 MB/s eta 0:00:10\n",
      "   ------------------ --------------------- 19.9/43.6 MB 2.5 MB/s eta 0:00:10\n",
      "   ------------------ --------------------- 20.4/43.6 MB 2.5 MB/s eta 0:00:10\n",
      "   ------------------- -------------------- 21.2/43.6 MB 2.6 MB/s eta 0:00:09\n",
      "   ------------------- -------------------- 21.8/43.6 MB 2.6 MB/s eta 0:00:09\n",
      "   -------------------- ------------------- 22.3/43.6 MB 2.6 MB/s eta 0:00:09\n",
      "   -------------------- ------------------- 22.8/43.6 MB 2.6 MB/s eta 0:00:09\n",
      "   --------------------- ------------------ 23.6/43.6 MB 2.6 MB/s eta 0:00:08\n",
      "   --------------------- ------------------ 23.9/43.6 MB 2.6 MB/s eta 0:00:08\n",
      "   ---------------------- ----------------- 24.6/43.6 MB 2.6 MB/s eta 0:00:08\n",
      "   ---------------------- ----------------- 24.9/43.6 MB 2.6 MB/s eta 0:00:08\n",
      "   ---------------------- ----------------- 24.9/43.6 MB 2.6 MB/s eta 0:00:08\n",
      "   ----------------------- ---------------- 25.7/43.6 MB 2.5 MB/s eta 0:00:08\n",
      "   ------------------------ --------------- 26.2/43.6 MB 2.5 MB/s eta 0:00:07\n",
      "   ------------------------ --------------- 26.2/43.6 MB 2.5 MB/s eta 0:00:07\n",
      "   ------------------------ --------------- 27.0/43.6 MB 2.5 MB/s eta 0:00:07\n",
      "   ------------------------ --------------- 27.0/43.6 MB 2.5 MB/s eta 0:00:07\n",
      "   ------------------------ --------------- 27.3/43.6 MB 2.4 MB/s eta 0:00:07\n",
      "   ------------------------- -------------- 27.5/43.6 MB 2.4 MB/s eta 0:00:07\n",
      "   ------------------------- -------------- 28.0/43.6 MB 2.4 MB/s eta 0:00:07\n",
      "   ------------------------- -------------- 28.3/43.6 MB 2.4 MB/s eta 0:00:07\n",
      "   ------------------------- -------------- 28.3/43.6 MB 2.4 MB/s eta 0:00:07\n",
      "   -------------------------- ------------- 28.8/43.6 MB 2.4 MB/s eta 0:00:07\n",
      "   -------------------------- ------------- 29.1/43.6 MB 2.3 MB/s eta 0:00:07\n",
      "   -------------------------- ------------- 29.4/43.6 MB 2.3 MB/s eta 0:00:07\n",
      "   --------------------------- ------------ 30.1/43.6 MB 2.3 MB/s eta 0:00:06\n",
      "   ---------------------------- ----------- 30.7/43.6 MB 2.3 MB/s eta 0:00:06\n",
      "   ---------------------------- ----------- 31.2/43.6 MB 2.3 MB/s eta 0:00:06\n",
      "   ---------------------------- ----------- 31.5/43.6 MB 2.3 MB/s eta 0:00:06\n",
      "   ----------------------------- ---------- 32.0/43.6 MB 2.3 MB/s eta 0:00:06\n",
      "   ----------------------------- ---------- 32.2/43.6 MB 2.3 MB/s eta 0:00:05\n",
      "   ------------------------------ --------- 33.0/43.6 MB 2.3 MB/s eta 0:00:05\n",
      "   ------------------------------ --------- 33.6/43.6 MB 2.3 MB/s eta 0:00:05\n",
      "   ------------------------------- -------- 34.3/43.6 MB 2.4 MB/s eta 0:00:04\n",
      "   ------------------------------- -------- 34.9/43.6 MB 2.4 MB/s eta 0:00:04\n",
      "   -------------------------------- ------- 35.7/43.6 MB 2.4 MB/s eta 0:00:04\n",
      "   --------------------------------- ------ 36.4/43.6 MB 2.4 MB/s eta 0:00:04\n",
      "   --------------------------------- ------ 37.0/43.6 MB 2.4 MB/s eta 0:00:03\n",
      "   ---------------------------------- ----- 37.7/43.6 MB 2.4 MB/s eta 0:00:03\n",
      "   ----------------------------------- ---- 38.3/43.6 MB 2.4 MB/s eta 0:00:03\n",
      "   ----------------------------------- ---- 38.8/43.6 MB 2.4 MB/s eta 0:00:03\n",
      "   ------------------------------------ --- 39.6/43.6 MB 2.4 MB/s eta 0:00:02\n",
      "   ------------------------------------ --- 40.1/43.6 MB 2.4 MB/s eta 0:00:02\n",
      "   ------------------------------------- -- 40.9/43.6 MB 2.5 MB/s eta 0:00:02\n",
      "   -------------------------------------- - 41.7/43.6 MB 2.5 MB/s eta 0:00:01\n",
      "   -------------------------------------- - 42.2/43.6 MB 2.5 MB/s eta 0:00:01\n",
      "   ---------------------------------------  43.0/43.6 MB 2.5 MB/s eta 0:00:01\n",
      "   ---------------------------------------  43.5/43.6 MB 2.5 MB/s eta 0:00:01\n",
      "   ---------------------------------------- 43.6/43.6 MB 2.5 MB/s eta 0:00:00\n",
      "Downloading threadpoolctl-3.5.0-py3-none-any.whl (18 kB)\n",
      "Installing collected packages: threadpoolctl, scipy, joblib, scikit-learn\n",
      "Successfully installed joblib-1.4.2 scikit-learn-1.6.1 scipy-1.15.1 threadpoolctl-3.5.0\n",
      "Note: you may need to restart the kernel to use updated packages.\n"
     ]
    },
    {
     "name": "stderr",
     "output_type": "stream",
     "text": [
      "\n",
      "[notice] A new release of pip is available: 24.3.1 -> 25.0\n",
      "[notice] To update, run: C:\\Users\\ilakk\\AppData\\Local\\Programs\\Python\\Python313\\python.exe -m pip install --upgrade pip\n"
     ]
    }
   ],
   "source": [
    "pip install scikit-learn\n"
   ]
  },
  {
   "cell_type": "code",
   "execution_count": 20,
   "id": "982e454e-6ecc-458b-b86b-ee7f97606664",
   "metadata": {},
   "outputs": [
    {
     "name": "stdout",
     "output_type": "stream",
     "text": [
      "Requirement already satisfied: scikit-learn in c:\\users\\ilakk\\appdata\\local\\programs\\python\\python313\\lib\\site-packages (1.6.1)\n",
      "Requirement already satisfied: numpy>=1.19.5 in c:\\users\\ilakk\\appdata\\local\\programs\\python\\python313\\lib\\site-packages (from scikit-learn) (2.2.2)\n",
      "Requirement already satisfied: scipy>=1.6.0 in c:\\users\\ilakk\\appdata\\local\\programs\\python\\python313\\lib\\site-packages (from scikit-learn) (1.15.1)\n",
      "Requirement already satisfied: joblib>=1.2.0 in c:\\users\\ilakk\\appdata\\local\\programs\\python\\python313\\lib\\site-packages (from scikit-learn) (1.4.2)\n",
      "Requirement already satisfied: threadpoolctl>=3.1.0 in c:\\users\\ilakk\\appdata\\local\\programs\\python\\python313\\lib\\site-packages (from scikit-learn) (3.5.0)\n"
     ]
    },
    {
     "name": "stderr",
     "output_type": "stream",
     "text": [
      "\n",
      "[notice] A new release of pip is available: 24.3.1 -> 25.0\n",
      "[notice] To update, run: C:\\Users\\ilakk\\AppData\\Local\\Programs\\Python\\Python313\\python.exe -m pip install --upgrade pip\n"
     ]
    }
   ],
   "source": [
    "!pip install scikit-learn"
   ]
  },
  {
   "cell_type": "code",
   "execution_count": 21,
   "id": "762bee4e-4aa6-4d87-a989-6ed9d361541a",
   "metadata": {},
   "outputs": [],
   "source": [
    "from sklearn.preprocessing import StandardScaler\n",
    "\n",
    "# Normalize transaction features for similarity comparison\n",
    "scaler = StandardScaler()\n",
    "scaled_features = scaler.fit_transform(features[['TotalSpent', 'NumTransactions']])\n"
   ]
  },
  {
   "cell_type": "code",
   "execution_count": 24,
   "id": "64cf4370-93ea-4f7a-9572-6f5c78a67e76",
   "metadata": {},
   "outputs": [
    {
     "name": "stdout",
     "output_type": "stream",
     "text": [
      "Customer C0001: [('C0164', np.float64(1.0)), ('C0152', np.float64(1.0)), ('C0157', np.float64(1.0))]\n",
      "Customer C0002: [('C0010', np.float64(0.9993862316092758)), ('C0199', np.float64(0.9994883588761103)), ('C0029', np.float64(0.9998164502862075))]\n",
      "Customer C0003: [('C0144', np.float64(0.9999786732874608)), ('C0150', np.float64(0.9999878193078627)), ('C0095', np.float64(0.9999982967950394))]\n",
      "Customer C0004: [('C0075', np.float64(0.9996269086640366)), ('C0021', np.float64(0.9998676605056527)), ('C0067', np.float64(0.9999900346224984))]\n",
      "Customer C0005: [('C0150', np.float64(0.9999781114114918)), ('C0144', np.float64(0.9999873937809141)), ('C0130', np.float64(0.9999955557509856))]\n",
      "Customer C0006: [('C0196', np.float64(0.9486817916979361)), ('C0117', np.float64(0.9896117406544477)), ('C0079', np.float64(0.9998848952436323))]\n",
      "Customer C0007: [('C0085', np.float64(0.9999614090807113)), ('C0193', np.float64(0.9999860329310987)), ('C0092', np.float64(0.9999995062491877))]\n",
      "Customer C0008: [('C0081', np.float64(0.9964373400435154)), ('C0194', np.float64(0.9986544703209228)), ('C0179', np.float64(0.9990219708224858))]\n",
      "Customer C0009: [('C0192', np.float64(0.9994192279837744)), ('C0142', np.float64(0.9997014744202523)), ('C0077', np.float64(0.9999456530105854))]\n",
      "Customer C0010: [('C0002', np.float64(0.9993862316092758)), ('C0025', np.float64(0.9996326713216477)), ('C0029', np.float64(0.9998739490917412))]\n",
      "Customer C0011: [('C0171', np.float64(1.0)), ('C0138', np.float64(1.0)), ('C0149', np.float64(1.0))]\n",
      "Customer C0012: [('C0065', np.float64(0.9996188563880776)), ('C0136', np.float64(0.9997142610093024)), ('C0102', np.float64(0.999998102071441))]\n",
      "Customer C0013: [('C0143', np.float64(0.9999695364902675)), ('C0153', np.float64(0.9999760251718511)), ('C0045', np.float64(0.9999928347795012))]\n",
      "Customer C0014: [('C0015', np.float64(0.9999275878394431)), ('C0132', np.float64(0.9999455541907019)), ('C0036', np.float64(0.9999979530109626))]\n",
      "Customer C0015: [('C0131', np.float64(0.9999735175455869)), ('C0197', np.float64(0.9999973817418574)), ('C0058', np.float64(0.9999998782302862))]\n",
      "Customer C0016: [('C0171', np.float64(1.0)), ('C0138', np.float64(1.0)), ('C0149', np.float64(1.0))]\n",
      "Customer C0017: [('C0093', np.float64(0.9996912359927028)), ('C0113', np.float64(0.9998345958475503)), ('C0162', np.float64(0.9998854512467971))]\n",
      "Customer C0018: [('C0171', np.float64(1.0)), ('C0138', np.float64(1.0)), ('C0149', np.float64(1.0))]\n",
      "Customer C0019: [('C0049', np.float64(0.8460458223949078)), ('C0116', np.float64(0.9566983747648372)), ('C0172', np.float64(0.9999830930145692))]\n",
      "Customer C0020: [('C0080', np.float64(0.999865046975193)), ('C0078', np.float64(0.999900764221411)), ('C0110', np.float64(0.9999927528635639))]\n"
     ]
    }
   ],
   "source": [
    "# Set CustomerID as index for proper alignment\n",
    "features.set_index('CustomerID', inplace=True)\n",
    "\n",
    "# Compute the cosine similarity between customers based on their features\n",
    "similarity_matrix = cosine_similarity(scaled_features)\n",
    "\n",
    "# For each customer, get the top 3 most similar customers\n",
    "lookalike_results = {}\n",
    "for idx, customer_id in enumerate(features.index):  # Use .index to iterate over the CustomerIDs\n",
    "    similarity_scores = similarity_matrix[idx]\n",
    "    similar_customer_indices = similarity_scores.argsort()[-4:-1]  # Top 3 most similar customers (exclude self)\n",
    "    \n",
    "    # Get similar customer IDs using .index\n",
    "    similar_customers = features.index[similar_customer_indices]\n",
    "    similarity_values = similarity_scores[similar_customer_indices]  # Get similarity scores for top 3\n",
    "\n",
    "    # Store the results in a dictionary\n",
    "    lookalike_results[customer_id] = list(zip(similar_customers, similarity_values))\n",
    "\n",
    "# Example of how to print the results for the first 20 customers (C0001 - C0020)\n",
    "for customer in lookalike_results:\n",
    "    if customer in ['C0001', 'C0002', 'C0003', 'C0004', 'C0005', 'C0006', 'C0007', 'C0008', 'C0009', 'C0010', \n",
    "                    'C0011', 'C0012', 'C0013', 'C0014', 'C0015', 'C0016', 'C0017', 'C0018', 'C0019', 'C0020']:\n",
    "        print(f\"Customer {customer}: {lookalike_results[customer]}\")\n"
   ]
  },
  {
   "cell_type": "code",
   "execution_count": 25,
   "id": "b64d871e-ec83-4fb9-8d63-573bcb427fcd",
   "metadata": {},
   "outputs": [],
   "source": [
    "lookalike_results = {}"
   ]
  },
  {
   "cell_type": "code",
   "execution_count": 26,
   "id": "61ca19d8-2788-402f-8ebf-dde755dd1b9b",
   "metadata": {},
   "outputs": [],
   "source": [
    "for i in range(20):  # For CustomerID C0001 - C0020 (index 0-19)\n",
    "    similar_customers = similarity_matrix[i]\n",
    "    similar_customers_sorted_idx = np.argsort(similar_customers)[::-1][1:4]  # Get top 3 excluding the customer itself\n",
    "    similar_customers_scores = similar_customers[similar_customers_sorted_idx]\n",
    "    \n",
    "    lookalike_results[customers.loc[i, 'CustomerID']] = [\n",
    "        (customers.loc[idx, 'CustomerID'], score) for idx, score in zip(similar_customers_sorted_idx, similar_customers_scores)\n",
    "    ]"
   ]
  },
  {
   "cell_type": "code",
   "execution_count": 27,
   "id": "b4967df0-74f5-42e8-8752-0f3abf27761d",
   "metadata": {},
   "outputs": [],
   "source": [
    "# Create a DataFrame for the output\n",
    "lookalike_df = pd.DataFrame([\n",
    "    {'CustomerID': customer_id, 'Lookalikes': lookalikes}\n",
    "    for customer_id, lookalikes in lookalike_results.items()\n",
    "])\n",
    "\n",
    "# Save the recommendations to a CSV file\n",
    "lookalike_df.to_csv('Lookalike.csv', index=False)"
   ]
  },
  {
   "cell_type": "code",
   "execution_count": null,
   "id": "17390f6a-1f6f-402e-9b22-313527626b68",
   "metadata": {},
   "outputs": [],
   "source": []
  }
 ],
 "metadata": {
  "kernelspec": {
   "display_name": "Python 3 (ipykernel)",
   "language": "python",
   "name": "python3"
  },
  "language_info": {
   "codemirror_mode": {
    "name": "ipython",
    "version": 3
   },
   "file_extension": ".py",
   "mimetype": "text/x-python",
   "name": "python",
   "nbconvert_exporter": "python",
   "pygments_lexer": "ipython3",
   "version": "3.13.1"
  }
 },
 "nbformat": 4,
 "nbformat_minor": 5
}
